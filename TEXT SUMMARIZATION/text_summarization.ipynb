{
  "nbformat": 4,
  "nbformat_minor": 0,
  "metadata": {
    "colab": {
      "name": "Untitled1.ipynb",
      "provenance": [],
      "collapsed_sections": [
        "MrJ3vEW22w4-",
        "Sm6HU2hS3CXz",
        "UjTu7GMo43ht",
        "TTi4DYop5IOI",
        "lWn0LISmGjam"
      ]
    },
    "kernelspec": {
      "name": "python3",
      "display_name": "Python 3"
    },
    "language_info": {
      "name": "python"
    }
  },
  "cells": [
    {
      "cell_type": "markdown",
      "metadata": {
        "id": "t8IqeWzZ2SVL"
      },
      "source": [
        "  ## **TEXT SUMMARIZATION:-**"
      ]
    },
    {
      "cell_type": "markdown",
      "metadata": {
        "id": "MrJ3vEW22w4-"
      },
      "source": [
        "### **IMPORTING LIBRARIES:-**"
      ]
    },
    {
      "cell_type": "code",
      "metadata": {
        "colab": {
          "base_uri": "https://localhost:8080/"
        },
        "id": "nqMqWsDa14qJ",
        "outputId": "28b56200-94eb-40f7-9e0b-80cc28f7b48d"
      },
      "source": [
        "import pandas as pd\n",
        "import numpy as np\n",
        "import nltk\n",
        "nltk.download('punkt')\n",
        "import re\n",
        "from nltk.corpus import stopwords\n",
        "nltk.download('stopwords')\n",
        "from nltk.tokenize import sent_tokenize\n",
        "import networkx as nx"
      ],
      "execution_count": 56,
      "outputs": [
        {
          "output_type": "stream",
          "text": [
            "[nltk_data] Downloading package punkt to /root/nltk_data...\n",
            "[nltk_data]   Package punkt is already up-to-date!\n",
            "[nltk_data] Downloading package stopwords to /root/nltk_data...\n",
            "[nltk_data]   Package stopwords is already up-to-date!\n"
          ],
          "name": "stdout"
        }
      ]
    },
    {
      "cell_type": "markdown",
      "metadata": {
        "id": "Sm6HU2hS3CXz"
      },
      "source": [
        "### **LOADING DATASET:-**"
      ]
    },
    {
      "cell_type": "code",
      "metadata": {
        "colab": {
          "base_uri": "https://localhost:8080/"
        },
        "id": "NYkfyN3q3GSc",
        "outputId": "8a03d09d-b0b8-49be-ff8a-d414deeeb83a"
      },
      "source": [
        "dataset = pd.read_csv(\"tennis_articles.csv\",encoding = 'Windows-1252')\n",
        "print(dataset)"
      ],
      "execution_count": 76,
      "outputs": [
        {
          "output_type": "stream",
          "text": [
            "   article_id  ...                                             source\n",
            "0           1  ...  https://www.tennisworldusa.org/tennis/news/Mar...\n",
            "1           2  ...  http://www.tennis.com/pro-game/2018/10/copil-s...\n",
            "2           3  ...  https://scroll.in/field/899938/tennis-roger-fe...\n",
            "3           4  ...  http://www.tennis.com/pro-game/2018/10/nishiko...\n",
            "4           5  ...  https://www.express.co.uk/sport/tennis/1036101...\n",
            "5           6  ...  https://www.express.co.uk/sport/tennis/1037119...\n",
            "6           7  ...  http://www.tennis.com/pro-game/2018/10/tennisc...\n",
            "7           8  ...  https://www.foxsports.com.au/tennis/tennis-jou...\n",
            "\n",
            "[8 rows x 4 columns]\n"
          ],
          "name": "stdout"
        }
      ]
    },
    {
      "cell_type": "code",
      "metadata": {
        "colab": {
          "base_uri": "https://localhost:8080/",
          "height": 221
        },
        "id": "iyGDVCk9NRwu",
        "outputId": "e7021a85-0654-496f-d942-9eb1cf7ab18d"
      },
      "source": [
        "dataset['article_text'][7]"
      ],
      "execution_count": 74,
      "outputs": [
        {
          "output_type": "execute_result",
          "data": {
            "application/vnd.google.colaboratory.intrinsic+json": {
              "type": "string"
            },
            "text/plain": [
              "'I PLAYED golf last week with Todd Reid. He picked me up at 5.30am, half an hour early because he couldn’t sleep. Or hadn’t slept, to be specific. Not because he’d been out on a bender or anything — those days were in the past. The former Wimbledon junior champion was full of hope, excited about getting his life back together after a troubled few years and a touch-and-go battle with pancreatitis. “I’m pleased with that,” he said after grinding out an eight-over-par front nine at the not-so-royal Northbridge club in Sydney and smashing down an egg- and-bacon roll at the halfway house. To most players of his rare sporting gifts, such a modest return would be unacceptable. To Reid the 15-marker, just being up and at ‘em was enough; a few bogeys and one well-made par — broomstick putter and all — vindication for his recent decision to renew his membership at nearby Bankstown. Exhausted after spending half his round deep in the bushes searching for my ball, as well as those of two other golfers he’d never met before, our incredibly giving designated driver asked if we didn’t mind going straight home after signing off so he could rest up a little before heading to work. Fourteen years after sharing centre court with Roger Federer in the third round of the Australian Open, Reid was now running the counter and coaching kids - but sadly now never mine- in suburban Sydney at the Matraville tennis and squash centre run by his father Bob and beautiful mother Sandra, herselfa former professional. Quite the fall from grace for a prodigious talent once afforded a 3000-word spread in The New York Times. With sponsors and the world at his feet, Reid was 14 then and being mentored by Nick Bollettieri, who fashioned the likes of Andre Agassi, Maria Sharapova, Monica Seles and Jim Courier into world No.1s. Reid, too, was earmarked for the very top, only for injuries and illness to cruel his career. On the up again after taking salvation in the bottle, Reid was found dead on Tuesday aged just 34. “I never got over what happened to me when I was 19,” he told AAP last week. Just as his senior career got legs, Reid was derailed by a debilitating bout of glandular fever. The life-changing setback hit only weeks after the then-teenage wonder boy announced his arrival as a grand slam threat by throwing up all over Rod Laver Arena during a fighting five-set second-round win over Sargis Sargsian. The epic victory set-up his showdown with Federer, who would go on to win his first Australian Open. “I was their golden boy then,” he said of his relationship with Tennis Australia. “Now they won’t even give me tickets (to the Open).” A Davis Cup pick and on the cusp of the world’s 100 by 18, Reid had few other complaints - just a lingering sense of what might have been. He’d backed up his last-32 showingat Melbourne Park with a string of wins over elites including French Open champion and then world No.9 Gaston Gaudio and Roland Garros runner-up Martin Verkerk in 2004 before illness struck. “I was on a nice trajectorythen,” Reid recalled.“If I hadn’t got sick, I think I could have started pushing towards the second week at the slams and then who knows.” Duringa comeback attempt some five years later, Reid added Bernard Tomic and 2018 US Open Federer slayer John Millman to his list of career scalps. “He had one of the best backhands, I think, going around,” Millman told AAP. “But my fondest memory is probably him coming back in Spain with his father and Todd trying to order a ham, cheese and tomato sandwich in the most Aussie English I ever heard.” Among his lesser known achievements - but even more significantto me - was an injured Reid’s effort to reach the final of the Manly Seaside, a prestigious Christmas-time event won backin the day by the likes of legends Rod Laver, Ken Rosewall, Frank Sedgman, John Bromwich, Lew Hoad, Neal Fraser, Fred Stolle, Evonne Goolagong and Australia’s last women’s Australian Open champion, Christine O’Neil. Hampered by a shoulder injury, Reid served under-arm - UNDER-ARM - throughout the entire tournament yet still made the decider. “I was always happy to work hard,” he said. He had hoped the mercurial Nick Kyrgios would do the same. A big fan and believer in the enigmatic Canberran, Reid didn’t want to see Kyrgios’s career slip away like his did. “Full effort he wouldn’t fail,” Reid said of Kyrgios. “Full effort Nick could live out his tennis like a (Tomas) Berdych or (Jo- Wilfried) Tsonga, consistently making second week,quarters, semis, finals of slams - and then hopefully more. “Time will tell for Nick, but he’s still young.” Todd Reid was still young, too. Tragically, his time ran out.'"
            ]
          },
          "metadata": {
            "tags": []
          },
          "execution_count": 74
        }
      ]
    },
    {
      "cell_type": "markdown",
      "metadata": {
        "id": "UjTu7GMo43ht"
      },
      "source": [
        "### There are 8 articles to be summarized. Here we are going to generate a single summary for 8 articles"
      ]
    },
    {
      "cell_type": "markdown",
      "metadata": {
        "id": "TTi4DYop5IOI"
      },
      "source": [
        "### **SPLITTING TEXT INTO SENTENCES:-**"
      ]
    },
    {
      "cell_type": "code",
      "metadata": {
        "id": "acMxjIK_59ub"
      },
      "source": [
        "#list initialising\n",
        "sentences = []\n",
        "for s in dataset['article_text']:\n",
        "  sentences.append(sent_tokenize(s))#appends each sentence to the list\n",
        "\n",
        "sentences = [y for x in sentences for y in x] #flattens the list\n"
      ],
      "execution_count": 58,
      "outputs": []
    },
    {
      "cell_type": "code",
      "metadata": {
        "colab": {
          "base_uri": "https://localhost:8080/",
          "height": 0
        },
        "id": "Xep6BGV6_-0a",
        "outputId": "d53adeec-42fb-4ee8-8ce0-5901cefb30c0"
      },
      "source": [
        "sentences[5]#prints 5th line"
      ],
      "execution_count": 59,
      "outputs": [
        {
          "output_type": "execute_result",
          "data": {
            "application/vnd.google.colaboratory.intrinsic+json": {
              "type": "string"
            },
            "text/plain": [
              "\"I'm a pretty competitive girl.\""
            ]
          },
          "metadata": {
            "tags": []
          },
          "execution_count": 59
        }
      ]
    },
    {
      "cell_type": "markdown",
      "metadata": {
        "id": "bDFGY1pwARqi"
      },
      "source": [
        "### **EXTRACTING WORD EMBEDDINGS/WORD VECTORS:-**"
      ]
    },
    {
      "cell_type": "code",
      "metadata": {
        "id": "tE43VmRmB5dT"
      },
      "source": [
        "# Extract word vectors\n",
        "word_embeddings = {}#empty dictionary\n",
        "f = open('glove.6B.100d.txt', encoding='utf-8')#GloVe algo for obtaining word vectors\n",
        "for line in f:\n",
        "    values = line.split()\n",
        "    word = values[0]\n",
        "    coefs = np.asarray(values[1:], dtype='float32')\n",
        "    word_embeddings[word] = coefs\n",
        "f.close()"
      ],
      "execution_count": 60,
      "outputs": []
    },
    {
      "cell_type": "code",
      "metadata": {
        "colab": {
          "base_uri": "https://localhost:8080/"
        },
        "id": "Zzg0mAD7ETa7",
        "outputId": "ed251571-5690-46be-fabd-4d0251e8b09b"
      },
      "source": [
        "len(word_embeddings)#no. of word vectors in dictionary(word_embeddings)"
      ],
      "execution_count": 61,
      "outputs": [
        {
          "output_type": "execute_result",
          "data": {
            "text/plain": [
              "181223"
            ]
          },
          "metadata": {
            "tags": []
          },
          "execution_count": 61
        }
      ]
    },
    {
      "cell_type": "markdown",
      "metadata": {
        "id": "kiviPdw3E0NH"
      },
      "source": [
        "### **TEXT PREPROCESSING:-**"
      ]
    },
    {
      "cell_type": "code",
      "metadata": {
        "id": "Bty-mF2nE89p"
      },
      "source": [
        "# remove punctuations, numbers and special characters\n",
        "clean_sentences = pd.Series(sentences).str.replace(\"[^a-zA-Z]\", \" \")\n",
        "# make alphabets lowercase\n",
        "clean_sentences = [s.lower() for s in clean_sentences]\n",
        "stop_words = stopwords.words('english')\n",
        "def remove_stopwords(sen):\n",
        "    sen_new = \" \".join([i for i in sen if i not in stop_words])\n",
        "    return sen_new\n",
        "#removes stopwords from sentences\n",
        "clean_sentences = [remove_stopwords(r.split()) for r in clean_sentences]"
      ],
      "execution_count": 62,
      "outputs": []
    },
    {
      "cell_type": "markdown",
      "metadata": {
        "id": "IN2hVmORGE9b"
      },
      "source": [
        "### **CREATING VECTORS FOR SENTENCES:-**"
      ]
    },
    {
      "cell_type": "code",
      "metadata": {
        "id": "_oNl0ibNGKng"
      },
      "source": [
        "sentence_vectors = []\n",
        "for i in clean_sentences:\n",
        "  if len(i) != 0:\n",
        "    v = sum([word_embeddings.get(w, np.zeros((100,))) for w in i.split()])/(len(i.split())+0.001)\n",
        "  else:\n",
        "    v = np.zeros((100,))\n",
        "  sentence_vectors.append(v)"
      ],
      "execution_count": 63,
      "outputs": []
    },
    {
      "cell_type": "markdown",
      "metadata": {
        "id": "lWn0LISmGjam"
      },
      "source": [
        "### **SIMILARITY MATRIX:-**"
      ]
    },
    {
      "cell_type": "code",
      "metadata": {
        "id": "0fRYRstNGoPE"
      },
      "source": [
        "# similarity matrix\n",
        "sim_mat = np.zeros([len(sentences), len(sentences)])\n",
        "#Cosine Similarity to compute the similarity between a pair of sentences\n",
        "from sklearn.metrics.pairwise import cosine_similarity\n",
        "#initialize the matrix with cosine similarity scores\n",
        "for i in range(len(sentences)):\n",
        "  for j in range(len(sentences)):\n",
        "    if i != j:\n",
        "      sim_mat[i][j] = cosine_similarity(sentence_vectors[i].reshape(1,100), sentence_vectors[j].reshape(1,100))[0,0]\n"
      ],
      "execution_count": 64,
      "outputs": []
    },
    {
      "cell_type": "markdown",
      "metadata": {
        "id": "sWWfTPJKH711"
      },
      "source": [
        "### **APPLYING PAGERANK ALGORITHM:-**"
      ]
    },
    {
      "cell_type": "code",
      "metadata": {
        "id": "344yDwkuIOfv"
      },
      "source": [
        "#Convert the similarity matrix sim_mat into a graph\n",
        "#The nodes of this graph will represent the sentences and the edges will represent the similarity scores between the sentences\n",
        "nx_graph = nx.from_numpy_array(sim_mat)\n",
        "#We will apply the PageRank algorithm on this graph to arrive at the sentence rankings\n",
        "scores = nx.pagerank(nx_graph)"
      ],
      "execution_count": 65,
      "outputs": []
    },
    {
      "cell_type": "markdown",
      "metadata": {
        "id": "qJWWwOO_JJrl"
      },
      "source": [
        "### **SUMMARY EXTRACTION**"
      ]
    },
    {
      "cell_type": "code",
      "metadata": {
        "colab": {
          "base_uri": "https://localhost:8080/"
        },
        "id": "4QgrvvXmK80U",
        "outputId": "01d6e9eb-abdf-468c-ca6c-108f3496bfdb"
      },
      "source": [
        "#extract the top N sentences based on their rankings for summary generation.\n",
        "ranked_sentences = sorted(((scores[i],s) for i,s in enumerate(sentences)), reverse=True)\n",
        "print(\"SUMMARY:\")\n",
        "for i in range(10):\n",
        "  print(ranked_sentences[i][1])\n",
        "  print('\\n')"
      ],
      "execution_count": 77,
      "outputs": [
        {
          "output_type": "stream",
          "text": [
            "SUMMARY:\n",
            "“I was on a nice trajectorythen,” Reid recalled.“If I hadn’t got sick, I think I could have started pushing towards the second week at the slams and then who knows.” Duringa comeback attempt some five years later, Reid added Bernard Tomic and 2018 US Open Federer slayer John Millman to his list of career scalps.\n",
            "\n",
            "\n",
            "Major players feel that a big event in late November combined with one in January before the Australian Open will mean too much tennis and too little rest.\n",
            "\n",
            "\n",
            "So I'm not the one to strike up a conversation about the weather and know that in the next few minutes I have to go and try to win a tennis match.\n",
            "\n",
            "\n",
            "Speaking at the Swiss Indoors tournament where he will play in Sunday’s final against Romanian qualifier Marius Copil, the world number three said that given the impossibly short time frame to make a decision, he opted out of any commitment.\n",
            "\n",
            "\n",
            "Currently in ninth place, Nishikori with a win could move to within 125 points of the cut for the eight-man event in London next month.\n",
            "\n",
            "\n",
            "Exhausted after spending half his round deep in the bushes searching for my ball, as well as those of two other golfers he’d never met before, our incredibly giving designated driver asked if we didn’t mind going straight home after signing off so he could rest up a little before heading to work.\n",
            "\n",
            "\n",
            "“I felt like the best weeks that I had to get to know players when I was playing were the Fed Cup weeks or the Olympic weeks, not necessarily during the tournaments.\n",
            "\n",
            "\n",
            "“I just felt like it really kind of changed where people were a little bit, definitely in the '90s, a lot more quiet, into themselves, and then it started to become better.” Meanwhile, Federer is hoping he can improve his service game as he hunts his ninth Swiss Indoors title this week.\n",
            "\n",
            "\n",
            "The former Wimbledon junior champion was full of hope, excited about getting his life back together after a troubled few years and a touch-and-go battle with pancreatitis.\n",
            "\n",
            "\n",
            "He used his first break point to close out the first set before going up 3-0 in the second and wrapping up the win on his first match point.\n",
            "\n",
            "\n"
          ],
          "name": "stdout"
        }
      ]
    }
  ]
}